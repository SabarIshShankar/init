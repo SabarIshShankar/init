{
  "nbformat": 4,
  "nbformat_minor": 0,
  "metadata": {
    "colab": {
      "name": "Untitled1.ipynb",
      "provenance": [],
      "collapsed_sections": []
    },
    "kernelspec": {
      "name": "python3",
      "display_name": "Python 3"
    },
    "language_info": {
      "name": "python"
    }
  },
  "cells": [
    {
      "cell_type": "code",
      "source": [
        "spam_amount = 0\n",
        "print(spam_amount)\n",
        "\n",
        "spam_amount = spam_amount  + 4\n",
        "\n",
        "if spam_amount > 0:\n",
        "  print(\"No\")\n",
        "\n",
        "song = \"Spam\" * spam_amount\n",
        "print(song)"
      ],
      "metadata": {
        "colab": {
          "base_uri": "https://localhost:8080/"
        },
        "id": "Pp1_1ZeIrVuy",
        "outputId": "1e8fea38-02bd-4113-fe44-7935b98da475"
      },
      "execution_count": 2,
      "outputs": [
        {
          "output_type": "stream",
          "name": "stdout",
          "text": [
            "0\n",
            "No\n",
            "SpamSpamSpamSpam\n"
          ]
        }
      ]
    },
    {
      "cell_type": "code",
      "source": [
        "print(min(1,3,5,7))\n",
        "print(max(1,5,6,7))"
      ],
      "metadata": {
        "colab": {
          "base_uri": "https://localhost:8080/"
        },
        "id": "o1ODRLO4ryv5",
        "outputId": "ababfb0f-96e0-4512-a2ec-6116f93c07f7"
      },
      "execution_count": 3,
      "outputs": [
        {
          "output_type": "stream",
          "name": "stdout",
          "text": [
            "1\n",
            "7\n"
          ]
        }
      ]
    },
    {
      "cell_type": "code",
      "source": [
        "help()"
      ],
      "metadata": {
        "colab": {
          "base_uri": "https://localhost:8080/"
        },
        "id": "jxtdbLMosIWJ",
        "outputId": "7ed1020c-a481-480f-e283-c5c7279dc1f0"
      },
      "execution_count": 4,
      "outputs": [
        {
          "output_type": "stream",
          "name": "stdout",
          "text": [
            "\n",
            "Welcome to Python 3.7's help utility!\n",
            "\n",
            "If this is your first time using Python, you should definitely check out\n",
            "the tutorial on the Internet at https://docs.python.org/3.7/tutorial/.\n",
            "\n",
            "Enter the name of any module, keyword, or topic to get help on writing\n",
            "Python programs and using Python modules.  To quit this help utility and\n",
            "return to the interpreter, just type \"quit\".\n",
            "\n",
            "To get a list of available modules, keywords, symbols, or topics, type\n",
            "\"modules\", \"keywords\", \"symbols\", or \"topics\".  Each module also comes\n",
            "with a one-line summary of what it does; to list the modules whose name\n",
            "or summary contain a given string such as \"spam\", type \"modules spam\".\n",
            "\n",
            "help> round\n",
            "Help on built-in function round in module builtins:\n",
            "\n",
            "round(number, ndigits=None)\n",
            "    Round a number to a given precision in decimal digits.\n",
            "    \n",
            "    The return value is an integer if ndigits is omitted or None.  Otherwise\n",
            "    the return value has the same type as the number.  ndigits may be negative.\n",
            "\n",
            "\n",
            "You are now leaving help and returning to the Python interpreter.\n",
            "If you want to ask for help on a particular object directly from the\n",
            "interpreter, you can type \"help(object)\".  Executing \"help('string')\"\n",
            "has the same effect as typing a particular string at the help> prompt.\n"
          ]
        }
      ]
    },
    {
      "cell_type": "code",
      "source": [
        "def least_difference(a,b,c):\n",
        "  diff1 = abs(a-b)\n",
        "  diff2 = abs(b-c)\n",
        "  diff3 = abs(a-c)\n",
        "  return min(diff1, diff2, diff3)"
      ],
      "metadata": {
        "id": "9gWe-zVesORC"
      },
      "execution_count": 6,
      "outputs": []
    },
    {
      "cell_type": "code",
      "source": [
        "print(\n",
        "    least_difference(10, 100, 1),\n",
        "    least_difference(9, 88, 1),\n",
        "    least_difference(15, 6, 70),\n",
        ")"
      ],
      "metadata": {
        "colab": {
          "base_uri": "https://localhost:8080/"
        },
        "id": "pDuO4Su7tkap",
        "outputId": "d11e4944-8639-4eb2-f54e-28370f738991"
      },
      "execution_count": 8,
      "outputs": [
        {
          "output_type": "stream",
          "name": "stdout",
          "text": [
            "9 8 9\n"
          ]
        }
      ]
    },
    {
      "cell_type": "code",
      "source": [
        "def least_difference(a, b, c):\n",
        "    diff1 = abs(a - b)\n",
        "    diff2 = abs(b - c)\n",
        "    diff3 = abs(a - c)\n",
        "    min(diff1, diff2, diff3)\n",
        "    \n",
        "print(\n",
        "    least_difference(1, 10, 100),\n",
        "    least_difference(1, 10, 10),\n",
        "    least_difference(5, 6, 7),\n",
        ")"
      ],
      "metadata": {
        "colab": {
          "base_uri": "https://localhost:8080/"
        },
        "id": "essFmLlIvCzy",
        "outputId": "eb2c7377-597c-4cf7-80b3-d00017296b80"
      },
      "execution_count": 9,
      "outputs": [
        {
          "output_type": "stream",
          "name": "stdout",
          "text": [
            "None None None\n"
          ]
        }
      ]
    },
    {
      "cell_type": "code",
      "source": [
        "print(1,2,3, sep=' < ')"
      ],
      "metadata": {
        "colab": {
          "base_uri": "https://localhost:8080/"
        },
        "id": "gWJBdPIVzTi5",
        "outputId": "ced86fcf-98c0-42b9-91de-57e8dbcd9fe8"
      },
      "execution_count": 10,
      "outputs": [
        {
          "output_type": "stream",
          "name": "stdout",
          "text": [
            "1 < 2 < 3\n"
          ]
        }
      ]
    },
    {
      "cell_type": "code",
      "source": [
        "def greet(who=\"Colin\"):\n",
        "  print(\"Hello\", who)\n",
        "\n",
        "greet()\n",
        "greet(who= \"Data\")\n",
        "greet(\"world\")"
      ],
      "metadata": {
        "colab": {
          "base_uri": "https://localhost:8080/"
        },
        "id": "-5rEJ8rUzWia",
        "outputId": "ed6d3958-608e-41f6-ace0-32c2dd1268a9"
      },
      "execution_count": 11,
      "outputs": [
        {
          "output_type": "stream",
          "name": "stdout",
          "text": [
            "Hello Colin\n",
            "Hello Data\n",
            "Hello world\n"
          ]
        }
      ]
    },
    {
      "cell_type": "code",
      "source": [
        "def mult_by_five(x):\n",
        "  return 5 * x\n",
        "\n",
        "def call(fn, arg):\n",
        "  return fn(arg)\n",
        "\n",
        "def squared_call(fn, arg):\n",
        "  return fn(fn(arg))\n",
        "\n",
        "print(\n",
        "    call(mult_by_five, 1), \n",
        "    squared_call(mult_by_five, 1),\n",
        "    sep='\\n'\n",
        "      )"
      ],
      "metadata": {
        "colab": {
          "base_uri": "https://localhost:8080/"
        },
        "id": "Xd6c6v_7z2Yb",
        "outputId": "0301bed0-9179-46ee-aa3b-7bf6e6b14cd6"
      },
      "execution_count": 14,
      "outputs": [
        {
          "output_type": "stream",
          "name": "stdout",
          "text": [
            "5\n",
            "25\n"
          ]
        }
      ]
    },
    {
      "cell_type": "code",
      "source": [
        "def mod_5(x):\n",
        "  return x %  5\n",
        "\n",
        "print('biggest', max(100, 50, 5),\n",
        "      'biggest modulo 5', max(100, 51, 14, key=mod_5), sep='\\n')"
      ],
      "metadata": {
        "colab": {
          "base_uri": "https://localhost:8080/"
        },
        "id": "t93gB6yF0agh",
        "outputId": "0049f703-ec17-415f-d7ec-c0d48522e9fa"
      },
      "execution_count": 17,
      "outputs": [
        {
          "output_type": "stream",
          "name": "stdout",
          "text": [
            "biggest\n",
            "100\n",
            "biggest modulo 5\n",
            "14\n"
          ]
        }
      ]
    }
  ]
}